{
 "cells": [
  {
   "cell_type": "code",
   "execution_count": 6,
   "id": "e2fbdcc0-23a5-4302-90c3-828cb97e80ae",
   "metadata": {},
   "outputs": [],
   "source": [
    "import pandas as pd\n",
    "import os"
   ]
  },
  {
   "cell_type": "code",
   "execution_count": 22,
   "id": "c4d3f18b-de40-4a10-94b6-f48e5c66d28e",
   "metadata": {},
   "outputs": [],
   "source": [
    "master_file = pd.DataFrame()"
   ]
  },
  {
   "cell_type": "code",
   "execution_count": 25,
   "id": "7ac17144-d089-44da-916e-dc59514143f4",
   "metadata": {},
   "outputs": [],
   "source": [
    "def update_and_rename_csv(filename):\n",
    "    df = pd.read_csv(filename, encoding=\"latin-1\")\n",
    "    date = input(\"Enter date (YYYY-MM-DD): \")\n",
    "    period = input(\"Enter AM or PM: \").upper()\n",
    "    if period not in ['AM', 'PM']:\n",
    "        print(\"Invalid input. Please enter 'AM' or 'PM'.\")\n",
    "        return\n",
    "    new_column_name1 = \"Date\"\n",
    "    new_column_name2 = \"Time\"\n",
    "    df[new_column_name1] = f\"{date}\"\n",
    "    df[new_column_name2] = f\"{period}\"\n",
    "\n",
    "    current_dir =os.getcwd()\n",
    "    os.rename(filename, f\"{date}{period}.csv\")\n",
    "    \n",
    "\n",
    "    df.to_csv(filename, index=False)\n",
    "    print(f\"CSV file updated successfully:{date}{period}.csv\")"
   ]
  },
  {
   "cell_type": "code",
   "execution_count": 26,
   "id": "016b5c46-5da9-41bc-bcf9-fb64a134a59e",
   "metadata": {},
   "outputs": [
    {
     "name": "stdout",
     "output_type": "stream",
     "text": [
      "CSV file updated successfully:2024-05-17AM.csv\n"
     ]
    }
   ],
   "source": [
    "filename = os.path.basename(\"C:/Users/AZ/Downloads/Offline.csv\")\n",
    "update_and_rename_csv(filename)"
   ]
  },
  {
   "cell_type": "code",
   "execution_count": 23,
   "id": "a369b09a-3230-4bf6-a387-29e47be64abc",
   "metadata": {},
   "outputs": [],
   "source": [
    "\n",
    "df = pd.read_csv(\"2024-05-17AM.csv\")\n",
    "df = df.drop(columns= ['IMEI','Phone #', 'Unnamed: 2','Device Model'])\n",
    "master_file = pd.concat([master_file,df], ignore_index=False)\n",
    "master_file.to_csv('master_file.csv', index=False)"
   ]
  }
 ],
 "metadata": {
  "kernelspec": {
   "display_name": "Python 3 (ipykernel)",
   "language": "python",
   "name": "python3"
  },
  "language_info": {
   "codemirror_mode": {
    "name": "ipython",
    "version": 3
   },
   "file_extension": ".py",
   "mimetype": "text/x-python",
   "name": "python",
   "nbconvert_exporter": "python",
   "pygments_lexer": "ipython3",
   "version": "3.11.4"
  }
 },
 "nbformat": 4,
 "nbformat_minor": 5
}
